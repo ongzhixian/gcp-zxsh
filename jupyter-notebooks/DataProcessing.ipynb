{
    "metadata": {
        "kernelspec": {
            "name": "python3",
            "display_name": "Python 3",
            "language": "python"
        },
        "language_info": {
            "name": "python",
            "version": "3.7.7",
            "mimetype": "text/x-python",
            "codemirror_mode": {
                "name": "ipython",
                "version": 3
            },
            "pygments_lexer": "ipython3",
            "nbconvert_exporter": "python",
            "file_extension": ".py"
        }
    },
    "nbformat_minor": 2,
    "nbformat": 4,
    "cells": [
        {
            "cell_type": "code",
            "source": [
                "# more than one dimensions \r\n",
                "import pandas as pd\r\n",
                "import numpy as np"
            ],
            "metadata": {
                "azdata_cell_guid": "3ef0a899-6795-4120-bd13-a2c170fb7b01",
                "tags": []
            },
            "outputs": [],
            "execution_count": 6
        },
        {
            "cell_type": "code",
            "source": [
                "a = np.array([[1, 2], [3, 4]]) \r\n",
                "print(a)\r\n",
                "\r\n",
                ""
            ],
            "metadata": {
                "azdata_cell_guid": "cfc52e18-c858-421f-a5d2-85166289e36e",
                "tags": [
                    "hide_input"
                ]
            },
            "outputs": [
                {
                    "name": "stdout",
                    "text": "[[1 2]\n [3 4]]\n",
                    "output_type": "stream"
                }
            ],
            "execution_count": 3
        },
        {
            "cell_type": "code",
            "source": [
                "# minimum dimensions \r\n",
                "a = np.array([1, 2, 3,4,5], ndmin = 2) \r\n",
                "print(a)"
            ],
            "metadata": {
                "azdata_cell_guid": "07e0a0e1-ec1b-4506-b3b6-f5d55f3a1a99",
                "tags": [
                    "hide_input"
                ]
            },
            "outputs": [
                {
                    "name": "stdout",
                    "text": "[[1 2 3 4 5]]\n",
                    "output_type": "stream"
                }
            ],
            "execution_count": 4
        },
        {
            "cell_type": "code",
            "source": [
                "# dtype parameter \r\n",
                "\r\n",
                "a = np.array([1, 2, 3], dtype = complex) \r\n",
                "print(a)\r\n",
                ""
            ],
            "metadata": {
                "azdata_cell_guid": "143967c2-bbed-44c7-9192-ca33e201a4a9",
                "tags": [
                    "hide_input"
                ]
            },
            "outputs": [
                {
                    "name": "stdout",
                    "text": "[1.+0.j 2.+0.j 3.+0.j]\n",
                    "output_type": "stream"
                }
            ],
            "execution_count": 5
        },
        {
            "cell_type": "code",
            "source": [
                "# pd.Series( data, index, dtype, copy)\r\n",
                "data = np.array(['a','b','c','d'])\r\n",
                "s = pd.Series(data)\r\n",
                "print(s)\r\n",
                ""
            ],
            "metadata": {
                "azdata_cell_guid": "d7a680ee-830b-4fa2-8a25-5a4f8ef71051"
            },
            "outputs": [
                {
                    "name": "stdout",
                    "text": "0    a\n1    b\n2    c\n3    d\ndtype: object\n",
                    "output_type": "stream"
                }
            ],
            "execution_count": 9
        },
        {
            "cell_type": "code",
            "source": [
                "data = {'Name':['Tom', 'Jack', 'Steve', 'Ricky'],'Age':[28,34,29,42]}\r\n",
                "df = pd.DataFrame(data, index=None)\r\n",
                "print(df)"
            ],
            "metadata": {
                "azdata_cell_guid": "b804923c-9102-4ce8-bce1-0203bd1953a4"
            },
            "outputs": [
                {
                    "name": "stdout",
                    "text": "    Name  Age\n0    Tom   28\n1   Jack   34\n2  Steve   29\n3  Ricky   42\n",
                    "output_type": "stream"
                }
            ],
            "execution_count": 12
        },
        {
            "cell_type": "code",
            "source": [
                "df = pd.DataFrame(np.random.randn(5, 3), index=['a', 'c', 'e', 'f','h'],columns=['one', 'two', 'three'])\r\n",
                "\r\n",
                "df = df.reindex(['a', 'b', 'c', 'd', 'e', 'f', 'g', 'h'])\r\n",
                "\r\n",
                "print(df)\r\n",
                "print(df['one'].isnull())"
            ],
            "metadata": {
                "azdata_cell_guid": "7955178e-d348-4ed5-ad33-60fb34f71691"
            },
            "outputs": [
                {
                    "name": "stdout",
                    "text": "        one       two     three\na  0.506133  1.120349  0.319463\nb       NaN       NaN       NaN\nc  1.725307 -0.045107 -1.892959\nd       NaN       NaN       NaN\ne  0.583006  1.609814  0.275444\nf -1.203399  0.451599  1.360254\ng       NaN       NaN       NaN\nh  0.702641 -2.056867 -0.512404\na    False\nb     True\nc    False\nd     True\ne    False\nf    False\ng     True\nh    False\nName: one, dtype: bool\n",
                    "output_type": "stream"
                }
            ],
            "execution_count": 26
        },
        {
            "cell_type": "code",
            "source": [
                "df = pd.DataFrame(np.random.randn(3, 3), index=['a', 'c', 'e'],columns=['one','two', 'three'])\r\n",
                "df = df.reindex(['a', 'b', 'c'])\r\n",
                "print(df)\r\n",
                "print (\"NaN replaced with '0':\")\r\n",
                "print(df.fillna(99))"
            ],
            "metadata": {
                "azdata_cell_guid": "3c1b6e54-1459-4f98-985d-151f5d8a2794"
            },
            "outputs": [
                {
                    "name": "stdout",
                    "text": "        one       two     three\na -0.861684 -0.231751 -0.598872\nb       NaN       NaN       NaN\nc  1.529399 -0.233374  1.555265\nNaN replaced with '0':\n         one        two      three\na  -0.861684  -0.231751  -0.598872\nb  99.000000  99.000000  99.000000\nc   1.529399  -0.233374   1.555265\n",
                    "output_type": "stream"
                }
            ],
            "execution_count": 28
        },
        {
            "cell_type": "code",
            "source": [
                "df = pd.DataFrame(np.random.randn(5, 3), index=['a', 'c', 'e', 'f','h'],columns=['one', 'two', 'three'])\r\n",
                "df = df.reindex(['a', 'b', 'c', 'd', 'e', 'f', 'g', 'h'])\r\n",
                "\r\n",
                "print(df)\r\n",
                "\r\n",
                "print(\"\\nuse padding\")\r\n",
                "print(df.fillna(method='pad'))\r\n",
                "\r\n",
                "print(\"\\ndrop na\")\r\n",
                "print(df.dropna())"
            ],
            "metadata": {
                "azdata_cell_guid": "50fb768f-9261-4ef3-abf8-0e74d68d66f0"
            },
            "outputs": [
                {
                    "name": "stdout",
                    "text": "        one       two     three\na  1.737596  0.981380  0.146685\nb       NaN       NaN       NaN\nc -1.571405 -1.836051  0.085974\nd       NaN       NaN       NaN\ne  1.546743 -1.247654  0.426075\nf -0.452088 -0.485473  0.713535\ng       NaN       NaN       NaN\nh  0.011719  0.565407  0.557444\n\nuse padding\n        one       two     three\na  1.737596  0.981380  0.146685\nb  1.737596  0.981380  0.146685\nc -1.571405 -1.836051  0.085974\nd -1.571405 -1.836051  0.085974\ne  1.546743 -1.247654  0.426075\nf -0.452088 -0.485473  0.713535\ng -0.452088 -0.485473  0.713535\nh  0.011719  0.565407  0.557444\n\ndrop na\n        one       two     three\na  1.737596  0.981380  0.146685\nc -1.571405 -1.836051  0.085974\ne  1.546743 -1.247654  0.426075\nf -0.452088 -0.485473  0.713535\nh  0.011719  0.565407  0.557444\n",
                    "output_type": "stream"
                }
            ],
            "execution_count": 32
        },
        {
            "cell_type": "code",
            "source": [
                "df = pd.DataFrame({'one':[10,20,30,40,50,2000],'two':[1000,0,30,40,50,60]})\r\n",
                "\r\n",
                "print(df)\r\n",
                "\r\n",
                "print(df.replace({1000:10,2000:60}))"
            ],
            "metadata": {
                "azdata_cell_guid": "57cedadb-800a-48da-afcd-7a8e0e4fbda1"
            },
            "outputs": [
                {
                    "name": "stdout",
                    "text": "    one   two\n0    10  1000\n1    20     0\n2    30    30\n3    40    40\n4    50    50\n5  2000    60\n   one  two\n0   10   10\n1   20    0\n2   30   30\n3   40   40\n4   50   50\n5   60   60\n",
                    "output_type": "stream"
                }
            ],
            "execution_count": 34
        }
    ]
}