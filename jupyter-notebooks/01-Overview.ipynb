{
    "metadata": {
        "kernelspec": {
            "name": "python3",
            "display_name": "Python 3",
            "language": "python"
        },
        "language_info": {
            "name": "python",
            "version": "3.7.7",
            "mimetype": "text/x-python",
            "codemirror_mode": {
                "name": "ipython",
                "version": 3
            },
            "pygments_lexer": "ipython3",
            "nbconvert_exporter": "python",
            "file_extension": ".py"
        }
    },
    "nbformat_minor": 2,
    "nbformat": 4,
    "cells": [
        {
            "cell_type": "markdown",
            "source": [
                "# Overview"
            ],
            "metadata": {
                "azdata_cell_guid": "84dcd6a4-c9f6-4d8c-9078-8f4841f63280"
            }
        },
        {
            "cell_type": "markdown",
            "source": [
                "## Table of contents\n",
                "\n",
                "- asd\n",
                "- asd\n",
                "-"
            ],
            "metadata": {
                "azdata_cell_guid": "da678365-e392-43e2-bb64-4de66a79dcd0"
            }
        }
    ]
}